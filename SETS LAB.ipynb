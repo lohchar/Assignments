{
 "cells": [
  {
   "cell_type": "markdown",
   "id": "c471d254",
   "metadata": {},
   "source": [
    "#### Sets - Lab"
   ]
  },
  {
   "cell_type": "code",
   "execution_count": 5,
   "id": "339e7db1",
   "metadata": {},
   "outputs": [],
   "source": [
    "\n",
    "V = {1,2,3,4,5,6,7,8,9,10,11,12} # universal set\n",
    "A = {2,4,6,8,10} # Even numbers between[1,10]\n",
    "B = {3,8,11,12} \n",
    "C = {2,3,6,8,9,11}"
   ]
  },
  {
   "cell_type": "markdown",
   "id": "5b5c5c65",
   "metadata": {},
   "source": [
    "1. $ A \\cap B$   \n"
   ]
  },
  {
   "cell_type": "code",
   "execution_count": 6,
   "id": "ac9711dc",
   "metadata": {},
   "outputs": [
    {
     "data": {
      "text/plain": [
       "{8}"
      ]
     },
     "execution_count": 6,
     "metadata": {},
     "output_type": "execute_result"
    }
   ],
   "source": [
    "A.intersection(B)"
   ]
  },
  {
   "cell_type": "markdown",
   "id": "1d356b38",
   "metadata": {},
   "source": [
    "2. $ A \\cup C$"
   ]
  },
  {
   "cell_type": "code",
   "execution_count": 3,
   "id": "3dba2438",
   "metadata": {},
   "outputs": [
    {
     "data": {
      "text/plain": [
       "{2, 3, 4, 6, 8, 9, 10, 11}"
      ]
     },
     "execution_count": 3,
     "metadata": {},
     "output_type": "execute_result"
    }
   ],
   "source": [
    "A.union(C)"
   ]
  },
  {
   "cell_type": "markdown",
   "id": "91c7399f",
   "metadata": {},
   "source": [
    "3. $A^c$"
   ]
  },
  {
   "cell_type": "code",
   "execution_count": 7,
   "id": "37f9d85e",
   "metadata": {},
   "outputs": [
    {
     "name": "stdout",
     "output_type": "stream",
     "text": [
      "{1, 3, 5, 7, 9, 11, 12}\n"
     ]
    }
   ],
   "source": [
    "A_comp = V-A\n",
    "print (A_comp)"
   ]
  },
  {
   "cell_type": "markdown",
   "id": "43bda1dc",
   "metadata": {},
   "source": [
    "4.The absolute complement of B"
   ]
  },
  {
   "cell_type": "code",
   "execution_count": 8,
   "id": "34e15a9a",
   "metadata": {},
   "outputs": [
    {
     "name": "stdout",
     "output_type": "stream",
     "text": [
      "{1, 2, 4, 5, 6, 7, 9, 10}\n"
     ]
    }
   ],
   "source": [
    "B_comp = V-B\n",
    "print(B_comp)"
   ]
  },
  {
   "cell_type": "markdown",
   "id": "e853c7c1",
   "metadata": {},
   "source": [
    "5. $(A∪B)^C$"
   ]
  },
  {
   "cell_type": "code",
   "execution_count": 10,
   "id": "c5259ef1",
   "metadata": {},
   "outputs": [
    {
     "data": {
      "text/plain": [
       "{1, 5, 7, 9}"
      ]
     },
     "execution_count": 10,
     "metadata": {},
     "output_type": "execute_result"
    }
   ],
   "source": [
    "V-(A.union(B))"
   ]
  },
  {
   "cell_type": "markdown",
   "id": "758783e0",
   "metadata": {},
   "source": [
    "6. $B∩C′$"
   ]
  },
  {
   "cell_type": "code",
   "execution_count": 11,
   "id": "466f08e8",
   "metadata": {},
   "outputs": [
    {
     "data": {
      "text/plain": [
       "{12}"
      ]
     },
     "execution_count": 11,
     "metadata": {},
     "output_type": "execute_result"
    }
   ],
   "source": [
    "B.intersection(V-C)"
   ]
  },
  {
   "cell_type": "markdown",
   "id": "8bfde431",
   "metadata": {},
   "source": [
    "7. A\\B"
   ]
  },
  {
   "cell_type": "code",
   "execution_count": 12,
   "id": "47d52464",
   "metadata": {},
   "outputs": [
    {
     "data": {
      "text/plain": [
       "{2, 4, 6, 10}"
      ]
     },
     "execution_count": 12,
     "metadata": {},
     "output_type": "execute_result"
    }
   ],
   "source": [
    "A.difference(B)"
   ]
  },
  {
   "cell_type": "markdown",
   "id": "3a94e5ad",
   "metadata": {},
   "source": [
    "8. C\\ (B\\A)"
   ]
  },
  {
   "cell_type": "code",
   "execution_count": 13,
   "id": "63ea6f0f",
   "metadata": {},
   "outputs": [
    {
     "data": {
      "text/plain": [
       "{2, 6, 8, 9}"
      ]
     },
     "execution_count": 13,
     "metadata": {},
     "output_type": "execute_result"
    }
   ],
   "source": [
    "C.difference(B.difference(A))"
   ]
  },
  {
   "cell_type": "markdown",
   "id": "6a1d620b",
   "metadata": {},
   "source": [
    "9. (C∩A)∪(C∖B)"
   ]
  },
  {
   "cell_type": "code",
   "execution_count": 18,
   "id": "c3a8ed29",
   "metadata": {},
   "outputs": [
    {
     "data": {
      "text/plain": [
       "{2, 6, 8, 9}"
      ]
     },
     "execution_count": 18,
     "metadata": {},
     "output_type": "execute_result"
    }
   ],
   "source": [
    "(C.intersection(A)).union(C.difference(B))"
   ]
  },
  {
   "cell_type": "markdown",
   "id": "a74de5cf",
   "metadata": {},
   "source": [
    "#### Set Operations in Python"
   ]
  },
  {
   "cell_type": "markdown",
   "id": "e2ee66e8",
   "metadata": {},
   "source": [
    "Mary is preparing for a road trip from her hometown, Boston, to Chicago. She has quite a few pets, yet luckily, so do her friends. They try to make sure that they take care of each other's pets while someone is away on a trip. A month ago, each respective person's pet collection was given by the following three sets:\n"
   ]
  },
  {
   "cell_type": "code",
   "execution_count": 98,
   "id": "4cbb5f09",
   "metadata": {},
   "outputs": [],
   "source": [
    "Nina = {\"Cat\",\"Dog\",\"Rabbit\",\"Donkey\",\"Parrot\", \"Goldfish\"}\n",
    "Mary = {\"Dog\",\"Chinchilla\",\"Horse\", \"Chicken\"}\n",
    "Eve = {\"Rabbit\", \"Turtle\", \"Goldfish\"}"
   ]
  },
  {
   "cell_type": "markdown",
   "id": "96b3ad8c",
   "metadata": {},
   "source": [
    "Sadly, Eve's turtle passed away last week. Let's update her pet list accordingly."
   ]
  },
  {
   "cell_type": "code",
   "execution_count": 99,
   "id": "d5ac5cc3",
   "metadata": {},
   "outputs": [
    {
     "name": "stdout",
     "output_type": "stream",
     "text": [
      "{'Rabbit', 'Goldfish'}\n"
     ]
    }
   ],
   "source": [
    "Eve.discard(\"Turtle\")\n",
    "print (Eve)"
   ]
  },
  {
   "cell_type": "markdown",
   "id": "7bba2c47",
   "metadata": {},
   "source": [
    "This time around, Nina promised to take care of Mary's pets while she's away. But she also wants to make sure her pets are well taken care of. As Nina is already spending a considerable amount of time taking care of her own pets, adding a few more won't make that much of a difference. Nina does want to update her list while Mary is away."
   ]
  },
  {
   "cell_type": "code",
   "execution_count": 100,
   "id": "c3a7087f",
   "metadata": {},
   "outputs": [
    {
     "name": "stdout",
     "output_type": "stream",
     "text": [
      "{'Parrot', 'Dog', 'Cat', 'Goldfish', 'Horse', 'Donkey', 'Chicken', 'Chinchilla', 'Rabbit'}\n"
     ]
    }
   ],
   "source": [
    "Nina.update(Mary)\n",
    "print(Nina)"
   ]
  },
  {
   "cell_type": "markdown",
   "id": "467b95cd",
   "metadata": {},
   "source": [
    "Mary, on the other hand, wants to clear her list altogether while away:"
   ]
  },
  {
   "cell_type": "code",
   "execution_count": 101,
   "id": "380a4aed",
   "metadata": {},
   "outputs": [
    {
     "name": "stdout",
     "output_type": "stream",
     "text": [
      "set()\n"
     ]
    }
   ],
   "source": [
    "Mary.clear()\n",
    "print(Mary)"
   ]
  },
  {
   "cell_type": "markdown",
   "id": "077de74c",
   "metadata": {},
   "source": [
    "Look at how many species Nina is taking care of right now."
   ]
  },
  {
   "cell_type": "code",
   "execution_count": 102,
   "id": "f12721d5",
   "metadata": {},
   "outputs": [
    {
     "data": {
      "text/plain": [
       "9"
      ]
     },
     "execution_count": 102,
     "metadata": {},
     "output_type": "execute_result"
    }
   ],
   "source": [
    "len(Nina)"
   ]
  },
  {
   "cell_type": "markdown",
   "id": "8592c89d",
   "metadata": {},
   "source": [
    "Taking care of this many pets is weighing heavily on Nina. She remembered Eve had a smaller collection of pets lately, and that's why she asks Eve to take care of the common species. This way, the extra pets are not a huge effort on Eve's behalf. Let's update Nina's pet collection."
   ]
  },
  {
   "cell_type": "code",
   "execution_count": 106,
   "id": "b3ef185d",
   "metadata": {},
   "outputs": [
    {
     "name": "stdout",
     "output_type": "stream",
     "text": [
      "{'Parrot', 'Dog', 'Cat', 'Horse', 'Donkey', 'Chicken', 'Chinchilla'}\n"
     ]
    }
   ],
   "source": [
    "common_pets = Nina & Eve\n",
    "Updated_Pets = Nina - common_pets\n",
    "print (Updated_Pets)"
   ]
  },
  {
   "cell_type": "markdown",
   "id": "4630e143",
   "metadata": {},
   "source": [
    "#### Writing Down the Elements in a Set   \n",
    "Mary dropped off her pets at Nina's house and finally made her way to the highway. Awesome, her vacation has begun! She's approaching an exit. At the end of this particular highway exit, cars can either turn left (L), go straight (S) or turn right (R). It's pretty busy and there are two cars driving close to her. What you'll do now is create several sets. You won't be using Python here, it's sufficient to write the sets down on paper. A good notion of sets and subsets will help you calculate probabilities in the next lab!\n",
    "\n",
    "Note: each set of action is what all three cars are doing at any given time"
   ]
  },
  {
   "cell_type": "markdown",
   "id": "b2d3b92c",
   "metadata": {},
   "source": [
    "a. Create a set A of all possible outcomes assuming that all three cars drive in the same direction.\n",
    "\n",
    "A = {(L,L,L), (S,S,S,), (R,R,R)}"
   ]
  },
  {
   "cell_type": "markdown",
   "id": "50e401b3",
   "metadata": {},
   "source": [
    "b. Create a set B of all possible outcomes assuming that all three cars drive in a different direction.   \n",
    "3! = 3 * 2 * 1     = 6   \n",
    "B={(L,S,R),(L,R,S),(S,L,R),(S,R,L),(R,L,S),(R,S,L)}"
   ]
  },
  {
   "cell_type": "markdown",
   "id": "eb549c19",
   "metadata": {},
   "source": [
    "c. Create a set C of all possible outcomes assuming that exactly 2 cars turn right.\n",
    "\n",
    "C={(R,R,L),(R,R,S),(R,L,R),(R,S,R),(L,R,R),(S,R,R)}"
   ]
  },
  {
   "cell_type": "markdown",
   "id": "8d3d8a93",
   "metadata": {},
   "source": [
    "d. Create a set D of all possible outcomes assuming that exactly 2 cars drive in the same direction.\n",
    "\n",
    "D = {(L,L,S),(L,S,L),(S,L,L),(L,L,R),(L,R,L),(R,L,L),(S,S,L),(S,L,S),(L,S,S),(S,S,R),(S,R,S),(R,S,S),(R,R,L),(R,L,R),(L,R,R),(R,R,S),(R,S,R),(S,R,R)}"
   ]
  },
  {
   "cell_type": "markdown",
   "id": "094d659e",
   "metadata": {},
   "source": [
    "e. Write down the interpretation and give all possible outcomes for the sets denoted by:   \n",
    "I. D′  \n",
    "\n",
    "outcomes not in D = set A|set B   \n",
    "A|B = {(L,L,L), (S,S,S), (R,R,R)} | {(L,S,R), (L,R,S), (S,L,R), (S,R,L), (R,L,S), (R,S,L)}"
   ]
  },
  {
   "cell_type": "markdown",
   "id": "476a1a08",
   "metadata": {},
   "source": [
    "II. C ∩ D   \n",
    "Common outcomes in C & D ={(R,R,L),(R,R,S),(R,L,R),(R,S,R),(L,R,R),(S,R,R)}"
   ]
  },
  {
   "cell_type": "markdown",
   "id": "2431504d",
   "metadata": {},
   "source": [
    "III. C ∪ D   \n",
    "\n",
    "All outcomes in either C or D   \n",
    "={(L,L,S),(L,S,L),(S,L,L),(L,L,R),(L,R,L),(R,L,L),(S,S,L),(S,L,S),(L,S,S),(S,S,R),(S,R,S),(R,S,S),(R,R,L),(R,L,R),(L,R,R),(R,R,S),(R,S,R),(S,R,R)}"
   ]
  },
  {
   "cell_type": "markdown",
   "id": "2b860a2f",
   "metadata": {},
   "source": [
    "#### Optional Exercise: European Countries   \n",
    "Use set operations to determine which European countries are not in the European Union. Use the Country column. You just might have to clean the data first with pandas."
   ]
  },
  {
   "cell_type": "code",
   "execution_count": 16,
   "id": "10794ea1",
   "metadata": {},
   "outputs": [],
   "source": [
    "import pandas as pd\n",
    "# load Europe and EU\n",
    "europe = pd.read_excel('Europe_and_EU.xlsx', sheet_name= 'Europe')\n",
    "eu = pd.read_excel('Europe_and_EU.xlsx', sheet_name= 'EU')\n",
    "#Removing whitespaces from country names\n",
    "europe[\"Country\"] = europe[\"Country\"].str.strip()\n",
    "europe[\"Country\"] = europe[\"Country\"].str.strip()\n"
   ]
  },
  {
   "cell_type": "code",
   "execution_count": 17,
   "id": "d882a83b",
   "metadata": {},
   "outputs": [
    {
     "data": {
      "text/html": [
       "<div>\n",
       "<style scoped>\n",
       "    .dataframe tbody tr th:only-of-type {\n",
       "        vertical-align: middle;\n",
       "    }\n",
       "\n",
       "    .dataframe tbody tr th {\n",
       "        vertical-align: top;\n",
       "    }\n",
       "\n",
       "    .dataframe thead th {\n",
       "        text-align: right;\n",
       "    }\n",
       "</style>\n",
       "<table border=\"1\" class=\"dataframe\">\n",
       "  <thead>\n",
       "    <tr style=\"text-align: right;\">\n",
       "      <th></th>\n",
       "      <th>Rank</th>\n",
       "      <th>Country</th>\n",
       "      <th>Population</th>\n",
       "      <th>% of population</th>\n",
       "      <th>Average relative annual growth (%)</th>\n",
       "      <th>Average absolute annual growth</th>\n",
       "      <th>Estimated doubling time (Years)</th>\n",
       "      <th>Official figure (where available)</th>\n",
       "      <th>Date of last figure</th>\n",
       "      <th>Regional grouping</th>\n",
       "      <th>Source</th>\n",
       "    </tr>\n",
       "  </thead>\n",
       "  <tbody>\n",
       "    <tr>\n",
       "      <th>0</th>\n",
       "      <td>1.0</td>\n",
       "      <td>Russia</td>\n",
       "      <td>143964709</td>\n",
       "      <td>17.15</td>\n",
       "      <td>0.19</td>\n",
       "      <td>294285</td>\n",
       "      <td>368</td>\n",
       "      <td>146839993</td>\n",
       "      <td>2017-01-01 00:00:00</td>\n",
       "      <td>EAEU</td>\n",
       "      <td>[1]</td>\n",
       "    </tr>\n",
       "    <tr>\n",
       "      <th>1</th>\n",
       "      <td>2.0</td>\n",
       "      <td>Germany</td>\n",
       "      <td>82521653</td>\n",
       "      <td>9.80</td>\n",
       "      <td>1.20</td>\n",
       "      <td>600000</td>\n",
       "      <td>90</td>\n",
       "      <td>82800000</td>\n",
       "      <td>2016-12-31 00:00:00</td>\n",
       "      <td>EU</td>\n",
       "      <td>Official estimate</td>\n",
       "    </tr>\n",
       "    <tr>\n",
       "      <th>2</th>\n",
       "      <td>3.0</td>\n",
       "      <td>Turkey</td>\n",
       "      <td>80810000</td>\n",
       "      <td>9.60</td>\n",
       "      <td>1.34</td>\n",
       "      <td>1035000</td>\n",
       "      <td>52</td>\n",
       "      <td>77695904</td>\n",
       "      <td>2016-12-31 00:00:00</td>\n",
       "      <td>NaN</td>\n",
       "      <td>[2]</td>\n",
       "    </tr>\n",
       "  </tbody>\n",
       "</table>\n",
       "</div>"
      ],
      "text/plain": [
       "   Rank  Country  Population  % of population  \\\n",
       "0   1.0   Russia   143964709            17.15   \n",
       "1   2.0  Germany    82521653             9.80   \n",
       "2   3.0   Turkey    80810000             9.60   \n",
       "\n",
       "   Average relative annual growth (%)  Average absolute annual growth  \\\n",
       "0                                0.19                          294285   \n",
       "1                                1.20                          600000   \n",
       "2                                1.34                         1035000   \n",
       "\n",
       "  Estimated doubling time (Years)  Official figure (where available)  \\\n",
       "0                             368                          146839993   \n",
       "1                              90                           82800000   \n",
       "2                              52                           77695904   \n",
       "\n",
       "   Date of last figure Regional grouping             Source  \n",
       "0  2017-01-01 00:00:00             EAEU                 [1]  \n",
       "1  2016-12-31 00:00:00               EU   Official estimate  \n",
       "2  2016-12-31 00:00:00               NaN                [2]  "
      ]
     },
     "execution_count": 17,
     "metadata": {},
     "output_type": "execute_result"
    }
   ],
   "source": [
    "europe.head(3)"
   ]
  },
  {
   "cell_type": "code",
   "execution_count": 18,
   "id": "d6ae95cc",
   "metadata": {},
   "outputs": [
    {
     "data": {
      "text/html": [
       "<div>\n",
       "<style scoped>\n",
       "    .dataframe tbody tr th:only-of-type {\n",
       "        vertical-align: middle;\n",
       "    }\n",
       "\n",
       "    .dataframe tbody tr th {\n",
       "        vertical-align: top;\n",
       "    }\n",
       "\n",
       "    .dataframe thead th {\n",
       "        text-align: right;\n",
       "    }\n",
       "</style>\n",
       "<table border=\"1\" class=\"dataframe\">\n",
       "  <thead>\n",
       "    <tr style=\"text-align: right;\">\n",
       "      <th></th>\n",
       "      <th>Rank</th>\n",
       "      <th>Country</th>\n",
       "      <th>2017 population</th>\n",
       "      <th>% of pop.</th>\n",
       "      <th>Average relative annual growth</th>\n",
       "      <th>Average absolute annual growth</th>\n",
       "      <th>Official figure</th>\n",
       "      <th>Date of last figure</th>\n",
       "      <th>Source</th>\n",
       "    </tr>\n",
       "  </thead>\n",
       "  <tbody>\n",
       "    <tr>\n",
       "      <th>0</th>\n",
       "      <td>1</td>\n",
       "      <td>Germany</td>\n",
       "      <td>82800000</td>\n",
       "      <td>16.18</td>\n",
       "      <td>0.76</td>\n",
       "      <td>628876</td>\n",
       "      <td>82576900</td>\n",
       "      <td>2017-03-31</td>\n",
       "      <td>Official estimate</td>\n",
       "    </tr>\n",
       "    <tr>\n",
       "      <th>1</th>\n",
       "      <td>2</td>\n",
       "      <td>France</td>\n",
       "      <td>67210459</td>\n",
       "      <td>13.10</td>\n",
       "      <td>0.40</td>\n",
       "      <td>265557</td>\n",
       "      <td>67174000</td>\n",
       "      <td>2018-01-01</td>\n",
       "      <td>Monthly official estimate</td>\n",
       "    </tr>\n",
       "    <tr>\n",
       "      <th>2</th>\n",
       "      <td>3</td>\n",
       "      <td>United Kingdom</td>\n",
       "      <td>65808573</td>\n",
       "      <td>12.86</td>\n",
       "      <td>0.65</td>\n",
       "      <td>428793</td>\n",
       "      <td>65648100</td>\n",
       "      <td>2017-06-30</td>\n",
       "      <td>Official estimate</td>\n",
       "    </tr>\n",
       "  </tbody>\n",
       "</table>\n",
       "</div>"
      ],
      "text/plain": [
       "   Rank         Country  2017 population  % of pop.  \\\n",
       "0     1        Germany          82800000      16.18   \n",
       "1     2          France         67210459      13.10   \n",
       "2     3  United Kingdom         65808573      12.86   \n",
       "\n",
       "   Average relative annual growth  Average absolute annual growth  \\\n",
       "0                            0.76                          628876   \n",
       "1                            0.40                          265557   \n",
       "2                            0.65                          428793   \n",
       "\n",
       "   Official figure Date of last figure                     Source  \n",
       "0         82576900          2017-03-31          Official estimate  \n",
       "1         67174000          2018-01-01  Monthly official estimate  \n",
       "2         65648100          2017-06-30          Official estimate  "
      ]
     },
     "execution_count": 18,
     "metadata": {},
     "output_type": "execute_result"
    }
   ],
   "source": [
    "eu.head(3)"
   ]
  },
  {
   "cell_type": "code",
   "execution_count": 20,
   "id": "5124f144",
   "metadata": {},
   "outputs": [
    {
     "data": {
      "text/plain": [
       "False"
      ]
     },
     "execution_count": 20,
     "metadata": {},
     "output_type": "execute_result"
    }
   ],
   "source": [
    "#Check to confirm that the EU countries are a subset of countries in Europe\n",
    "\n",
    "#change countries to set\n",
    "europe_set = set(europe[\"Country\"])\n",
    "eu_set = set(eu[\"Country\"])\n",
    "#check is EU is subset of Europe\n",
    "eu_set.issubset(europe_set)"
   ]
  },
  {
   "cell_type": "code",
   "execution_count": 22,
   "id": "0f0d0d24",
   "metadata": {},
   "outputs": [
    {
     "name": "stdout",
     "output_type": "stream",
     "text": [
      "{'Bulgaria', 'Macedonia', 'Switzerland', 'Moldova', 'Norway', 'Belarus', 'San Marino', 'Isle of Man (UK)', 'Kosovo', 'Latvia', 'Slovenia', 'Monaco', 'Germany', 'Guernsey (UK)', 'Italy', 'Georgia', 'Svalbard (Norway)', 'Luxembourg', 'Cyprus', 'Austria', 'Liechtenstein', 'Armenia', 'Belgium', 'Romania', 'Hungary', 'Azerbaijan', 'Andorra', 'Denmark', 'Finland', 'Portugal', 'Turkey', 'Lithuania', 'Bosnia and Herzegovina', 'Estonia', 'Iceland', 'Sweden', 'Malta', 'Åland Islands (Finland)', 'Slovakia', 'Russia', 'Netherlands', 'Poland', 'Greece', 'Serbia', 'Montenegro', 'Jersey (UK)', 'Ireland', 'Croatia', 'Gibraltar (UK)', 'Czech Republic', 'Ukraine', 'Vatican City', 'Faroe Islands (Denmark)', 'Spain', 'Albania'}\n"
     ]
    }
   ],
   "source": [
    "# Find the set of countries that are in Europe but not the EU\n",
    "print(europe_set - eu_set)"
   ]
  }
 ],
 "metadata": {
  "kernelspec": {
   "display_name": "base",
   "language": "python",
   "name": "python3"
  },
  "language_info": {
   "codemirror_mode": {
    "name": "ipython",
    "version": 3
   },
   "file_extension": ".py",
   "mimetype": "text/x-python",
   "name": "python",
   "nbconvert_exporter": "python",
   "pygments_lexer": "ipython3",
   "version": "3.12.7"
  }
 },
 "nbformat": 4,
 "nbformat_minor": 5
}
