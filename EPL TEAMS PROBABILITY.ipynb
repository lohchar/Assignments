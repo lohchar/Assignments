{
 "cells": [
  {
   "cell_type": "markdown",
   "id": "5d4f0658",
   "metadata": {},
   "source": [
    "#### Task   \n",
    "Calculate win probability of all current EPL teams   "
   ]
  },
  {
   "cell_type": "code",
   "execution_count": 1,
   "id": "5f803d13",
   "metadata": {},
   "outputs": [],
   "source": [
    "import pandas as pd\n",
    "import matplotlib.pyplot as plt\n",
    "import numpy as np\n",
    "import seaborn as sns\n",
    "from scipy import stats"
   ]
  },
  {
   "cell_type": "code",
   "execution_count": null,
   "id": "4a259ca7",
   "metadata": {},
   "outputs": [
    {
     "name": "stdout",
     "output_type": "stream",
     "text": [
      "0.12876065177021057\n"
     ]
    }
   ],
   "source": [
    "# predict no. of games for Arsenal win in a season\n",
    "import math\n",
    "# n = Total Games in a season, k= Games won \n",
    "k = 20\n",
    "n = 38\n",
    "p = k/n\n",
    "win_prob = (math.comb (n,k)) * p**k * ((1-p)**(n-k))\n",
    "print(win_prob)"
   ]
  },
  {
   "cell_type": "code",
   "execution_count": 4,
   "id": "db748359",
   "metadata": {},
   "outputs": [
    {
     "name": "stdout",
     "output_type": "stream",
     "text": [
      "0.1353884449176747\n"
     ]
    }
   ],
   "source": [
    "#Calculate probabilities for liverpool to win\n",
    "k = 25\n",
    "n = 38\n",
    "p = k/n\n",
    "win_prob = (math.comb(n,k))*p**k*((1-p)**(n-k))\n",
    "print(win_prob)"
   ]
  },
  {
   "cell_type": "code",
   "execution_count": 5,
   "id": "56f00190",
   "metadata": {},
   "outputs": [
    {
     "name": "stdout",
     "output_type": "stream",
     "text": [
      "0.12929097913764\n"
     ]
    }
   ],
   "source": [
    "#Calculate probabilities for Man City to win\n",
    "k = 21\n",
    "n = 38\n",
    "p = k/n\n",
    "win_prob = (math.comb(n,k))*p**k*((1-p)**(n-k))\n",
    "print(win_prob)"
   ]
  },
  {
   "cell_type": "code",
   "execution_count": 6,
   "id": "0b6fe06d",
   "metadata": {},
   "outputs": [
    {
     "name": "stdout",
     "output_type": "stream",
     "text": [
      "0.12876065177021057\n"
     ]
    }
   ],
   "source": [
    "#Calculate probabilities for chelsea to win\n",
    "k = 20\n",
    "n = 38\n",
    "p = k/n\n",
    "win_prob = (math.comb(n,k))*p**k*((1-p)**(n-k))\n",
    "print(win_prob)"
   ]
  },
  {
   "cell_type": "code",
   "execution_count": 7,
   "id": "565f55ca",
   "metadata": {},
   "outputs": [
    {
     "name": "stdout",
     "output_type": "stream",
     "text": [
      "0.12876065177021057\n"
     ]
    }
   ],
   "source": [
    "#Calculate probabilities for Newcastle to win\n",
    "k = 20\n",
    "n = 38\n",
    "p = k/n\n",
    "win_prob = (math.comb(n,k))*p**k*((1-p)**(n-k))\n",
    "print(win_prob)"
   ]
  },
  {
   "cell_type": "code",
   "execution_count": 8,
   "id": "b9d144b0",
   "metadata": {},
   "outputs": [
    {
     "name": "stdout",
     "output_type": "stream",
     "text": [
      "0.1285853206354659\n"
     ]
    }
   ],
   "source": [
    "#Calculate probabilities for Astonvilla to win\n",
    "k = 19\n",
    "n = 38\n",
    "p = k/n\n",
    "win_prob = (math.comb(n,k))*p**k*((1-p)**(n-k))\n",
    "print(win_prob)"
   ]
  },
  {
   "cell_type": "code",
   "execution_count": 9,
   "id": "aba1940c",
   "metadata": {},
   "outputs": [
    {
     "name": "stdout",
     "output_type": "stream",
     "text": [
      "0.1285853206354659\n"
     ]
    }
   ],
   "source": [
    "#Calculate probabilities for Nottingham Forest to win\n",
    "k = 19\n",
    "n = 38\n",
    "p = k/n\n",
    "win_prob = (math.comb(n,k))*p**k*((1-p)**(n-k))\n",
    "print(win_prob)"
   ]
  },
  {
   "cell_type": "code",
   "execution_count": 10,
   "id": "e1c9dfe0",
   "metadata": {},
   "outputs": [
    {
     "name": "stdout",
     "output_type": "stream",
     "text": [
      "0.1301896060179955\n"
     ]
    }
   ],
   "source": [
    "#Calculate probabilities for Brighton to win\n",
    "k = 16\n",
    "n = 38\n",
    "p = k/n\n",
    "win_prob = (math.comb(n,k))*p**k*((1-p)**(n-k))\n",
    "print(win_prob)"
   ]
  },
  {
   "cell_type": "code",
   "execution_count": 11,
   "id": "0241d4e0",
   "metadata": {},
   "outputs": [
    {
     "name": "stdout",
     "output_type": "stream",
     "text": [
      "0.1314797510291293\n"
     ]
    }
   ],
   "source": [
    "#Calculate probabilities for Bournemouth to win\n",
    "k = 15\n",
    "n = 38\n",
    "p = k/n\n",
    "win_prob = (math.comb(n,k))*p**k*((1-p)**(n-k))\n",
    "print(win_prob)"
   ]
  },
  {
   "cell_type": "code",
   "execution_count": 12,
   "id": "43837647",
   "metadata": {},
   "outputs": [
    {
     "name": "stdout",
     "output_type": "stream",
     "text": [
      "0.1301896060179955\n"
     ]
    }
   ],
   "source": [
    "#Calculate probabilities for Brentford to win\n",
    "k = 16\n",
    "n = 38\n",
    "p = k/n\n",
    "win_prob = (math.comb(n,k))*p**k*((1-p)**(n-k))\n",
    "print(win_prob)"
   ]
  },
  {
   "cell_type": "code",
   "execution_count": 13,
   "id": "20fdf36c",
   "metadata": {},
   "outputs": [
    {
     "name": "stdout",
     "output_type": "stream",
     "text": [
      "0.1314797510291293\n"
     ]
    }
   ],
   "source": [
    "#Calculate probabilities for Fulham to win\n",
    "k = 15\n",
    "n = 38\n",
    "p = k/n\n",
    "win_prob = (math.comb(n,k))*p**k*((1-p)**(n-k))\n",
    "print(win_prob)"
   ]
  },
  {
   "cell_type": "code",
   "execution_count": 14,
   "id": "faf682f5",
   "metadata": {},
   "outputs": [
    {
     "name": "stdout",
     "output_type": "stream",
     "text": [
      "0.13538844491767502\n"
     ]
    }
   ],
   "source": [
    "#Calculate probabilities for Crystal Place to win\n",
    "k = 13\n",
    "n = 38\n",
    "p = k/n\n",
    "win_prob = (math.comb(n,k))*p**k*((1-p)**(n-k))\n",
    "print(win_prob)"
   ]
  },
  {
   "cell_type": "code",
   "execution_count": 15,
   "id": "805d2895",
   "metadata": {},
   "outputs": [
    {
     "name": "stdout",
     "output_type": "stream",
     "text": [
      "0.14149674791863873\n"
     ]
    }
   ],
   "source": [
    "#Calculate probabilities for Everton to win\n",
    "k = 11\n",
    "n = 38\n",
    "p = k/n\n",
    "win_prob = (math.comb(n,k))*p**k*((1-p)**(n-k))\n",
    "print(win_prob)"
   ]
  },
  {
   "cell_type": "code",
   "execution_count": 16,
   "id": "c19c1aa8",
   "metadata": {},
   "outputs": [
    {
     "name": "stdout",
     "output_type": "stream",
     "text": [
      "0.14149674791863873\n"
     ]
    }
   ],
   "source": [
    "#Calculate probabilities for westham to win\n",
    "k = 11\n",
    "n = 38\n",
    "p = k/n\n",
    "win_prob = (math.comb(n,k))*p**k*((1-p)**(n-k))\n",
    "print(win_prob)"
   ]
  },
  {
   "cell_type": "code",
   "execution_count": 17,
   "id": "bcebf0d9",
   "metadata": {},
   "outputs": [
    {
     "name": "stdout",
     "output_type": "stream",
     "text": [
      "0.14149674791863873\n"
     ]
    }
   ],
   "source": [
    "#Calculate probabilities for Mna united to win\n",
    "k = 11\n",
    "n = 38\n",
    "p = k/n\n",
    "win_prob = (math.comb(n,k))*p**k*((1-p)**(n-k))\n",
    "print(win_prob)"
   ]
  },
  {
   "cell_type": "code",
   "execution_count": 18,
   "id": "f903b1c0",
   "metadata": {},
   "outputs": [
    {
     "name": "stdout",
     "output_type": "stream",
     "text": [
      "0.13812421006150558\n"
     ]
    }
   ],
   "source": [
    "#Calculate probabilities for wolves to win\n",
    "k = 12\n",
    "n = 38\n",
    "p = k/n\n",
    "win_prob = (math.comb(n,k))*p**k*((1-p)**(n-k))\n",
    "print(win_prob)"
   ]
  },
  {
   "cell_type": "code",
   "execution_count": 19,
   "id": "6b97221b",
   "metadata": {},
   "outputs": [
    {
     "name": "stdout",
     "output_type": "stream",
     "text": [
      "0.14149674791863873\n"
     ]
    }
   ],
   "source": [
    "#Calculate probabilities for Tottenham to win\n",
    "k = 11\n",
    "n = 38\n",
    "p = k/n\n",
    "win_prob = (math.comb(n,k))*p**k*((1-p)**(n-k))\n",
    "print(win_prob)"
   ]
  },
  {
   "cell_type": "code",
   "execution_count": 20,
   "id": "66f46465",
   "metadata": {},
   "outputs": [
    {
     "name": "stdout",
     "output_type": "stream",
     "text": [
      "0.17496305909023172\n"
     ]
    }
   ],
   "source": [
    "#Calculate probabilities for leicester to win\n",
    "k = 6\n",
    "n = 38\n",
    "p = k/n\n",
    "win_prob = (math.comb(n,k))*p**k*((1-p)**(n-k))\n",
    "print(win_prob)"
   ]
  },
  {
   "cell_type": "code",
   "execution_count": 21,
   "id": "a23dc537",
   "metadata": {},
   "outputs": [
    {
     "name": "stdout",
     "output_type": "stream",
     "text": [
      "0.20648623111662437\n"
     ]
    }
   ],
   "source": [
    "#Calculate probabilities for ipswich to win\n",
    "k = 4\n",
    "n = 38\n",
    "p = k/n\n",
    "win_prob = (math.comb(n,k))*p**k*((1-p)**(n-k))\n",
    "print(win_prob)"
   ]
  },
  {
   "cell_type": "code",
   "execution_count": 22,
   "id": "6b0b0697",
   "metadata": {},
   "outputs": [
    {
     "name": "stdout",
     "output_type": "stream",
     "text": [
      "0.27805369617002695\n"
     ]
    }
   ],
   "source": [
    "#Calculate probabilities for southampton to win\n",
    "k = 2\n",
    "n = 38\n",
    "p = k/n\n",
    "win_prob = (math.comb(n,k))*p**k*((1-p)**(n-k))\n",
    "print(win_prob)"
   ]
  }
 ],
 "metadata": {
  "kernelspec": {
   "display_name": "base",
   "language": "python",
   "name": "python3"
  },
  "language_info": {
   "codemirror_mode": {
    "name": "ipython",
    "version": 3
   },
   "file_extension": ".py",
   "mimetype": "text/x-python",
   "name": "python",
   "nbconvert_exporter": "python",
   "pygments_lexer": "ipython3",
   "version": "3.12.7"
  }
 },
 "nbformat": 4,
 "nbformat_minor": 5
}
